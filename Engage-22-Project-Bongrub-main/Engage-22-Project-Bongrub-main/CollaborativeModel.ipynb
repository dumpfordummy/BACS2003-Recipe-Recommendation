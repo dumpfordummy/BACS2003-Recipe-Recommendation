{
 "cells": [
  {
   "cell_type": "code",
   "execution_count": null,
   "id": "b13e02bc",
   "metadata": {},
   "outputs": [],
   "source": [
    "# This Python 3 environment comes with many helpful analytics libraries installed\n",
    "# It is defined by the kaggle/python Docker image: https://github.com/kaggle/docker-python\n",
    "# For example, here's several helpful packages to load\n",
    "\n",
    "import numpy as np # linear algebra\n",
    "import pandas as pd # data processing, CSV file I/O (e.g. pd.read_csv)\n",
    "import pickle"
   ]
  },
  {
   "cell_type": "code",
   "execution_count": null,
   "id": "5f8a8a4e",
   "metadata": {},
   "outputs": [],
   "source": [
    "# Storing the recipes information into a pandas DataFrame titled 'recipes'\n",
    "recipes = pd.read_csv('recipes.csv', engine='python', on_bad_lines='skip')"
   ]
  },
  {
   "cell_type": "code",
   "execution_count": null,
   "id": "987eeb83",
   "metadata": {},
   "outputs": [],
   "source": [
    "# Storing the reviews information into a pandas DataFrame titled 'reviews'\n",
    "reviews = pd.read_csv('reviews.csv', engine='python', on_bad_lines='skip')"
   ]
  },
  {
   "cell_type": "markdown",
   "id": "5991ef91",
   "metadata": {},
   "source": [
    "# ⚡ Data pre-processing"
   ]
  },
  {
   "cell_type": "code",
   "execution_count": null,
   "id": "0985f5da",
   "metadata": {},
   "outputs": [],
   "source": [
    "# Truncating the DateSubmitted and DateModified columns\n",
    "reviews=reviews[['ReviewId','RecipeId','AuthorId','AuthorName','Rating','Review']]"
   ]
  },
  {
   "cell_type": "code",
   "execution_count": null,
   "id": "fd6b483f",
   "metadata": {},
   "outputs": [],
   "source": [
    "# Function for counting Null values \n",
    "def countNullValues(col):\n",
    "  c = 0\n",
    "  for i in col:\n",
    "    if(i != i):\n",
    "      c+=1\n",
    "  return c"
   ]
  },
  {
   "cell_type": "code",
   "execution_count": null,
   "id": "b6b3c72b",
   "metadata": {},
   "outputs": [],
   "source": [
    "# Counting null values in the reviews dataframe\n",
    "c1 = countNullValues(reviews.ReviewId)\n",
    "c2 = countNullValues(reviews.RecipeId) \n",
    "c3 = countNullValues(reviews.AuthorId)\n",
    "c4 = countNullValues(reviews.AuthorName) \n",
    "c5 = countNullValues(reviews.Rating)\n",
    "c6 = countNullValues(reviews.Review) "
   ]
  },
  {
   "cell_type": "code",
   "execution_count": null,
   "id": "fc2ea329",
   "metadata": {},
   "outputs": [],
   "source": [
    "# Function for replacing Null Values\n",
    "def replaceNullValue(column):\n",
    "  j = 0\n",
    "  for i in column:\n",
    "    if(str(i) == 'nan'):\n",
    "      column[j] = 'NA'\n",
    "    j+=1\n",
    "  return column"
   ]
  },
  {
   "cell_type": "code",
   "execution_count": null,
   "id": "0fcf2ad8",
   "metadata": {},
   "outputs": [],
   "source": [
    "replaceNullValue(reviews.Review)"
   ]
  },
  {
   "cell_type": "code",
   "execution_count": null,
   "id": "fd93cdc9",
   "metadata": {},
   "outputs": [],
   "source": [
    "# Checking the column labels in reviews\n",
    "reviews.columns, reviews.shape"
   ]
  },
  {
   "cell_type": "code",
   "execution_count": null,
   "id": "0c28ef0d",
   "metadata": {},
   "outputs": [],
   "source": [
    "# Printing a summary of the data in reviews data\n",
    "# .describe() gives the statistics of the numerical data \n",
    "reviews.describe()"
   ]
  },
  {
   "cell_type": "code",
   "execution_count": null,
   "id": "e70b48c3",
   "metadata": {},
   "outputs": [],
   "source": [
    "# Checking the Rating distribution in the range 0-5 for the Data given \n",
    "import seaborn as sns\n",
    "with sns.axes_style('white'):\n",
    "    g = sns.catplot(x=\"Rating\", data=reviews, aspect=2.0,kind='count')\n",
    "    g.set_ylabels(\"Total number of ratings\")"
   ]
  },
  {
   "cell_type": "code",
   "execution_count": null,
   "id": "2b3bc2c8",
   "metadata": {},
   "outputs": [],
   "source": [
    "print(\"\\nTotal no of ratings :\", reviews.shape[0])\n",
    "print(\"Total No of authors   :\", len(np.unique(reviews.AuthorId)))\n",
    "print(\"Total No of recipes  :\", len(np.unique(reviews.RecipeId)))"
   ]
  },
  {
   "cell_type": "markdown",
   "id": "7006e985",
   "metadata": {},
   "source": [
    "# ⚡ Item-based Collaborative based Recommender"
   ]
  },
  {
   "cell_type": "code",
   "execution_count": null,
   "id": "7ce8fc7d",
   "metadata": {},
   "outputs": [],
   "source": [
    "# Setting rating count threshold\n",
    "threshold = 30\n",
    "counts = reviews['RecipeId'].value_counts()\n",
    "valid_recipes = counts[counts >= threshold].index\n",
    "valid_recipes"
   ]
  },
  {
   "cell_type": "code",
   "execution_count": null,
   "id": "2322d406",
   "metadata": {},
   "outputs": [],
   "source": [
    "filtered_ratings = reviews[reviews['RecipeId'].isin(valid_recipes)]\n",
    "filtered_ratings.shape"
   ]
  },
  {
   "cell_type": "code",
   "execution_count": null,
   "id": "94d78a4e",
   "metadata": {},
   "outputs": [],
   "source": [
    "# Reset index value\n",
    "filtered_ratings.reset_index(inplace = True, drop = True)"
   ]
  },
  {
   "cell_type": "code",
   "execution_count": 1,
   "id": "70bdfa93",
   "metadata": {},
   "outputs": [
    {
     "ename": "NameError",
     "evalue": "name 'filtered_ratings' is not defined",
     "output_type": "error",
     "traceback": [
      "\u001b[1;31m---------------------------------------------------------------------------\u001b[0m",
      "\u001b[1;31mNameError\u001b[0m                                 Traceback (most recent call last)",
      "Cell \u001b[1;32mIn[1], line 1\u001b[0m\n\u001b[1;32m----> 1\u001b[0m matrix \u001b[38;5;241m=\u001b[39m filtered_ratings\u001b[38;5;241m.\u001b[39mpivot(index \u001b[38;5;241m=\u001b[39m \u001b[38;5;124m'\u001b[39m\u001b[38;5;124mAuthorId\u001b[39m\u001b[38;5;124m'\u001b[39m, columns \u001b[38;5;241m=\u001b[39m\u001b[38;5;124m'\u001b[39m\u001b[38;5;124mRecipeId\u001b[39m\u001b[38;5;124m'\u001b[39m, values \u001b[38;5;241m=\u001b[39m \u001b[38;5;124m'\u001b[39m\u001b[38;5;124mRating\u001b[39m\u001b[38;5;124m'\u001b[39m)\u001b[38;5;241m.\u001b[39mfillna(\u001b[38;5;241m0\u001b[39m)\n\u001b[0;32m      2\u001b[0m matrix\n",
      "\u001b[1;31mNameError\u001b[0m: name 'filtered_ratings' is not defined"
     ]
    }
   ],
   "source": [
    "# Get user rating matrix\n",
    "matrix = filtered_ratings.pivot(index = 'AuthorId', columns ='RecipeId', values = 'Rating').fillna(0)\n",
    "matrix"
   ]
  },
  {
   "cell_type": "code",
   "execution_count": null,
   "id": "692504c2",
   "metadata": {},
   "outputs": [],
   "source": [
    "# testing input\n",
    "users_rating = matrix[56]\n",
    "users_rating.sort_values(ascending=False).head(20)"
   ]
  },
  {
   "cell_type": "code",
   "execution_count": null,
   "id": "705d5efa",
   "metadata": {},
   "outputs": [],
   "source": [
    "similar_recipes = matrix.corrwith(users_rating)\n",
    "similar_recipes"
   ]
  },
  {
   "cell_type": "code",
   "execution_count": null,
   "id": "63868c4d",
   "metadata": {},
   "outputs": [],
   "source": [
    "similar_recipes.sort_values(by='correlation', ascending=False).head(20)"
   ]
  },
  {
   "cell_type": "markdown",
   "id": "0f74649d",
   "metadata": {},
   "source": [
    "# Weighted Rating calculate"
   ]
  },
  {
   "cell_type": "code",
   "execution_count": null,
   "id": "a9e199d0",
   "metadata": {},
   "outputs": [],
   "source": [
    "# Calculating the ratings given per recipe\n",
    "RatingCounts = filtered_ratings.groupby('RecipeId')['Rating'].count()\n",
    "RatingCounts.sort_values(ascending=False, inplace=True)"
   ]
  },
  {
   "cell_type": "code",
   "execution_count": null,
   "id": "6c7d327f",
   "metadata": {},
   "outputs": [],
   "source": [
    "m = threshold"
   ]
  },
  {
   "cell_type": "code",
   "execution_count": null,
   "id": "03d6de58",
   "metadata": {},
   "outputs": [],
   "source": [
    "# Creating and merging smaller recipes dataframe with individual rating counts for a recipe\n",
    "#recipesSubDataFrame = recipes.iloc[:9000]\n",
    "weightedPopularRecipes = recipes.merge(RatingCounts, on='RecipeId')"
   ]
  },
  {
   "cell_type": "code",
   "execution_count": null,
   "id": "ac5463ac",
   "metadata": {},
   "outputs": [],
   "source": [
    "RatingAverages = weightedPopularRecipes[weightedPopularRecipes['AggregatedRating'].notnull()]['AggregatedRating'].astype('int')\n",
    "C = RatingAverages.mean()\n",
    "C"
   ]
  },
  {
   "cell_type": "code",
   "execution_count": null,
   "id": "a87066e1",
   "metadata": {},
   "outputs": [],
   "source": [
    "# Columns selected to appear in shortlisted dataframe are RecipeId, Name, RecipeCategory, AggregatedRating, Rating, and ReviewCount\n",
    "qualifiedRecipes = weightedPopularRecipes[(weightedPopularRecipes['Rating'] >= threshold) & (weightedPopularRecipes['Rating'].notnull()) & (weightedPopularRecipes['AggregatedRating'].notnull())][['RecipeId', 'Name', 'RecipeCategory', 'AggregatedRating', 'Rating', 'ReviewCount']]\n",
    "\n",
    "# Setting the datatype of 'Rating' and 'AggregatedRating' to int\n",
    "qualifiedRecipes['Rating'] = qualifiedRecipes['Rating'].astype('int')\n",
    "qualifiedRecipes['AggregatedRating'] = qualifiedRecipes['AggregatedRating'].astype('int') "
   ]
  },
  {
   "cell_type": "code",
   "execution_count": null,
   "id": "5644dedb",
   "metadata": {},
   "outputs": [],
   "source": [
    "# Function that defines the mathematical formula for the weighted rating method\n",
    "def weightedRating(x):\n",
    "    v = x['Rating']\n",
    "    R = x['AggregatedRating']\n",
    "    return (v/(v+m) * R) + (m/(m+v) * C)"
   ]
  },
  {
   "cell_type": "code",
   "execution_count": null,
   "id": "1a48f871",
   "metadata": {},
   "outputs": [],
   "source": [
    "# Applying the WR function\n",
    "qualifiedRecipes['score'] = qualifiedRecipes.apply(weightedRating, axis=1)\n",
    "#qualifiedRecipes.loc[qualifiedRecipes[\"RecipeId\"] == 56]\n",
    "qualifiedRecipes.head()"
   ]
  },
  {
   "cell_type": "code",
   "execution_count": null,
   "id": "041710fb",
   "metadata": {},
   "outputs": [],
   "source": [
    "# Convert into same dataframe format \n",
    "df_rating = pd.DataFrame(qualifiedRecipes.groupby(by = ['RecipeId'])['score'].agg('mean')) \n",
    "df_rating.head(10)"
   ]
  },
  {
   "cell_type": "code",
   "execution_count": null,
   "id": "0fd520fe",
   "metadata": {},
   "outputs": [],
   "source": [
    "result_recipes = similar_recipes.join(df_rating['score']).sort_values(by='correlation', ascending=False)\n",
    "result_recipes.head(10)"
   ]
  },
  {
   "cell_type": "code",
   "execution_count": null,
   "id": "7f40bb02",
   "metadata": {},
   "outputs": [],
   "source": []
  },
  {
   "cell_type": "code",
   "execution_count": null,
   "id": "55899239",
   "metadata": {},
   "outputs": [],
   "source": []
  }
 ],
 "metadata": {
  "kernelspec": {
   "display_name": "Python 3 (ipykernel)",
   "language": "python",
   "name": "python3"
  },
  "language_info": {
   "codemirror_mode": {
    "name": "ipython",
    "version": 3
   },
   "file_extension": ".py",
   "mimetype": "text/x-python",
   "name": "python",
   "nbconvert_exporter": "python",
   "pygments_lexer": "ipython3",
   "version": "3.11.5"
  }
 },
 "nbformat": 4,
 "nbformat_minor": 5
}
