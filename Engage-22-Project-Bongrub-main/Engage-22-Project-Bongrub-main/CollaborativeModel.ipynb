{
 "cells": [
  {
   "cell_type": "code",
   "execution_count": null,
   "id": "e8eec1ec",
   "metadata": {},
   "outputs": [],
   "source": [
    "# This Python 3 environment comes with many helpful analytics libraries installed\n",
    "# It is defined by the kaggle/python Docker image: https://github.com/kaggle/docker-python\n",
    "# For example, here's several helpful packages to load\n",
    "\n",
    "import numpy as np # linear algebra\n",
    "import pandas as pd # data processing, CSV file I/O (e.g. pd.read_csv)\n",
    "import pickle"
   ]
  },
  {
   "cell_type": "code",
   "execution_count": null,
   "id": "1e7d7e1c",
   "metadata": {},
   "outputs": [],
   "source": [
    "# Storing the recipes information into a pandas DataFrame titled 'recipes'\n",
    "recipes = pd.read_csv('recipes.csv', engine='python', on_bad_lines='skip')"
   ]
  },
  {
   "cell_type": "code",
   "execution_count": null,
   "id": "55488372",
   "metadata": {},
   "outputs": [],
   "source": [
    "# Storing the reviews information into a pandas DataFrame titled 'reviews'\n",
    "reviews = pd.read_csv('reviews.csv', engine='python', on_bad_lines='skip')"
   ]
  },
  {
   "cell_type": "markdown",
   "id": "6b1bd726",
   "metadata": {},
   "source": [
    "# ⚡ Data pre-processing"
   ]
  },
  {
   "cell_type": "code",
   "execution_count": null,
   "id": "ecd19519",
   "metadata": {},
   "outputs": [],
   "source": [
    "# Truncating the DateSubmitted and DateModified columns\n",
    "reviews=reviews[['ReviewId','RecipeId','AuthorId','AuthorName','Rating','Review']]"
   ]
  },
  {
   "cell_type": "code",
   "execution_count": null,
   "id": "632c2d09",
   "metadata": {},
   "outputs": [],
   "source": [
    "# Function for counting Null values \n",
    "def countNullValues(col):\n",
    "  c = 0\n",
    "  for i in col:\n",
    "    if(i != i):\n",
    "      c+=1\n",
    "  return c"
   ]
  },
  {
   "cell_type": "code",
   "execution_count": null,
   "id": "60a5a0fc",
   "metadata": {},
   "outputs": [],
   "source": [
    "# Counting null values in the reviews dataframe\n",
    "c1 = countNullValues(reviews.ReviewId)\n",
    "c2 = countNullValues(reviews.RecipeId) \n",
    "c3 = countNullValues(reviews.AuthorId)\n",
    "c4 = countNullValues(reviews.AuthorName) \n",
    "c5 = countNullValues(reviews.Rating)\n",
    "c6 = countNullValues(reviews.Review) "
   ]
  },
  {
   "cell_type": "code",
   "execution_count": null,
   "id": "2d09ca49",
   "metadata": {},
   "outputs": [],
   "source": [
    "# Function for replacing Null Values\n",
    "def replaceNullValue(column):\n",
    "  j = 0\n",
    "  for i in column:\n",
    "    if(str(i) == 'nan'):\n",
    "      column[j] = 'NA'\n",
    "    j+=1\n",
    "  return column"
   ]
  },
  {
   "cell_type": "code",
   "execution_count": null,
   "id": "73e899b2",
   "metadata": {},
   "outputs": [],
   "source": [
    "replaceNullValue(reviews.Review)"
   ]
  },
  {
   "cell_type": "code",
   "execution_count": null,
   "id": "a949d996",
   "metadata": {},
   "outputs": [],
   "source": [
    "# Checking the column labels in reviews\n",
    "reviews.columns, reviews.shape"
   ]
  },
  {
   "cell_type": "code",
   "execution_count": null,
   "id": "8c883b3f",
   "metadata": {},
   "outputs": [],
   "source": [
    "# Printing a summary of the data in reviews data\n",
    "# .describe() gives the statistics of the numerical data \n",
    "reviews.describe()"
   ]
  },
  {
   "cell_type": "code",
   "execution_count": null,
   "id": "1362f5b0",
   "metadata": {},
   "outputs": [],
   "source": [
    "# Checking the Rating distribution in the range 0-5 for the Data given \n",
    "import seaborn as sns\n",
    "with sns.axes_style('white'):\n",
    "    g = sns.catplot(x=\"Rating\", data=reviews, aspect=2.0,kind='count')\n",
    "    g.set_ylabels(\"Total number of ratings\")"
   ]
  },
  {
   "cell_type": "code",
   "execution_count": null,
   "id": "50a1e2ce",
   "metadata": {
    "scrolled": true
   },
   "outputs": [],
   "source": [
    "print(\"\\nTotal no of ratings :\", reviews.shape[0])\n",
    "print(\"Total No of authors   :\", len(np.unique(reviews.AuthorId)))\n",
    "print(\"Total No of recipes  :\", len(np.unique(reviews.RecipeId)))"
   ]
  },
  {
   "cell_type": "markdown",
   "id": "86bc0809",
   "metadata": {},
   "source": [
    "# ⚡ Item-based Collaborative based Recommender"
   ]
  },
  {
   "cell_type": "code",
   "execution_count": null,
   "id": "d147f73a",
   "metadata": {},
   "outputs": [],
   "source": [
    "# Setting rating count threshold\n",
    "threshold = 51\n",
    "counts = reviews['RecipeId'].value_counts()\n",
    "valid_recipes = counts[counts >= threshold].index\n",
    "valid_recipes"
   ]
  },
  {
   "cell_type": "code",
   "execution_count": null,
   "id": "437c20b9",
   "metadata": {},
   "outputs": [],
   "source": [
    "filtered_ratings = reviews[reviews['RecipeId'].isin(valid_recipes)]\n",
    "filtered_ratings.shape"
   ]
  },
  {
   "cell_type": "code",
   "execution_count": null,
   "id": "41d8cfb5",
   "metadata": {},
   "outputs": [],
   "source": [
    "# Reset index value\n",
    "filtered_ratings.reset_index(inplace = True, drop = True)\n",
    "filtered_ratings.head()"
   ]
  },
  {
   "cell_type": "code",
   "execution_count": null,
   "id": "3f069094-e12a-4a4f-add9-71fb4adc86fe",
   "metadata": {},
   "outputs": [],
   "source": [
    "with open('filtered_ratings.pkl', 'wb') as f:\n",
    "    pickle.dump(filtered_ratings, f)"
   ]
  },
  {
   "cell_type": "code",
   "execution_count": null,
   "id": "040875a3",
   "metadata": {},
   "outputs": [],
   "source": [
    "# Get user rating matrix\n",
    "matrix = filtered_ratings.pivot(index = 'AuthorId', columns ='RecipeId', values = 'Rating').fillna(0)\n",
    "matrix"
   ]
  },
  {
   "cell_type": "code",
   "execution_count": null,
   "id": "399324ff",
   "metadata": {},
   "outputs": [],
   "source": [
    "# testing input\n",
    "users_rating = matrix[56]\n",
    "users_rating.sort_values(ascending=False).head(20)"
   ]
  },
  {
   "cell_type": "code",
   "execution_count": null,
   "id": "0cd83a82",
   "metadata": {},
   "outputs": [],
   "source": [
    "similar_recipes = matrix.corrwith(users_rating)\n",
    "similar_recipes"
   ]
  },
  {
   "cell_type": "code",
   "execution_count": null,
   "id": "7aa00f80",
   "metadata": {},
   "outputs": [],
   "source": [
    "similar_recipes = pd.DataFrame(similar_recipes,columns=['correlation'])\n",
    "similar_recipes.head(10)"
   ]
  },
  {
   "cell_type": "code",
   "execution_count": null,
   "id": "4fd02cbe",
   "metadata": {},
   "outputs": [],
   "source": [
    "similar_recipes.sort_values(by='correlation', ascending=False).head(20)"
   ]
  },
  {
   "cell_type": "markdown",
   "id": "a289ffbf",
   "metadata": {},
   "source": [
    "# Weighted Rating calculate"
   ]
  },
  {
   "cell_type": "code",
   "execution_count": null,
   "id": "7a123f73",
   "metadata": {},
   "outputs": [],
   "source": [
    "# Calculating the ratings given per recipe\n",
    "RatingCounts = filtered_ratings.groupby('RecipeId')['Rating'].count()\n",
    "RatingCounts.sort_values(ascending=False, inplace=True)"
   ]
  },
  {
   "cell_type": "code",
   "execution_count": null,
   "id": "5cd94540",
   "metadata": {},
   "outputs": [],
   "source": [
    "m = threshold"
   ]
  },
  {
   "cell_type": "code",
   "execution_count": null,
   "id": "6212878a",
   "metadata": {},
   "outputs": [],
   "source": [
    "# Creating and merging smaller recipes dataframe with individual rating counts for a recipe\n",
    "#recipesSubDataFrame = recipes.iloc[:9000]\n",
    "weightedPopularRecipes = recipes.merge(RatingCounts, on='RecipeId')"
   ]
  },
  {
   "cell_type": "code",
   "execution_count": null,
   "id": "8cb3264f-e771-42e6-a847-859a376100df",
   "metadata": {},
   "outputs": [],
   "source": [
    "weightedPopularRecipes"
   ]
  },
  {
   "cell_type": "code",
   "execution_count": null,
   "id": "de085eca",
   "metadata": {},
   "outputs": [],
   "source": [
    "RatingAverages = weightedPopularRecipes[weightedPopularRecipes['AggregatedRating'].notnull()]['AggregatedRating'].astype('int')\n",
    "C = RatingAverages.mean()\n",
    "C"
   ]
  },
  {
   "cell_type": "code",
   "execution_count": null,
   "id": "4909e22e-fc00-470d-bdf4-ca0fb27876f1",
   "metadata": {},
   "outputs": [],
   "source": [
    "# with open('weightedPopularRecipes.pkl', 'wb') as f:\n",
    "#     pickle.dump(weightedPopularRecipes, f)"
   ]
  },
  {
   "cell_type": "code",
   "execution_count": null,
   "id": "37d1f93e",
   "metadata": {},
   "outputs": [],
   "source": [
    "# Columns selected to appear in shortlisted dataframe are RecipeId, Name, RecipeCategory, AggregatedRating, Rating, and ReviewCount\n",
    "qualifiedRecipes = weightedPopularRecipes[(weightedPopularRecipes['Rating'] >= threshold) & (weightedPopularRecipes['Rating'].notnull()) & (weightedPopularRecipes['AggregatedRating'].notnull())][['RecipeId', 'Name', 'RecipeCategory', 'AggregatedRating', 'Rating', 'ReviewCount', 'Images', 'TotalTime']]\n",
    "# Setting the datatype of 'Rating' and 'AggregatedRating' to int\n",
    "qualifiedRecipes['Rating'] = qualifiedRecipes['Rating'].astype('int')\n",
    "qualifiedRecipes['AggregatedRating'] = qualifiedRecipes['AggregatedRating'].astype('int') "
   ]
  },
  {
   "cell_type": "code",
   "execution_count": null,
   "id": "04cfe72a",
   "metadata": {},
   "outputs": [],
   "source": [
    "# Function that defines the mathematical formula for the weighted rating method\n",
    "def weightedRating(x):\n",
    "    v = x['Rating']\n",
    "    R = x['AggregatedRating']\n",
    "    return (v/(v+m) * R) + (m/(m+v) * C)"
   ]
  },
  {
   "cell_type": "code",
   "execution_count": null,
   "id": "3c4f579f",
   "metadata": {},
   "outputs": [],
   "source": [
    "# Applying the WR function\n",
    "qualifiedRecipes['score'] = qualifiedRecipes.apply(weightedRating, axis=1)\n",
    "#qualifiedRecipes.loc[qualifiedRecipes[\"RecipeId\"] == 56]\n",
    "qualifiedRecipes.head()\n",
    "names = qualifiedRecipes[[\"RecipeId\",\"Name\"]]\n",
    "names"
   ]
  },
  {
   "cell_type": "code",
   "execution_count": 38,
   "id": "6c0e42c2-d720-49c6-b9f0-1ef82cefffb9",
   "metadata": {},
   "outputs": [
    {
     "data": {
      "text/html": [
       "<div>\n",
       "<style scoped>\n",
       "    .dataframe tbody tr th:only-of-type {\n",
       "        vertical-align: middle;\n",
       "    }\n",
       "\n",
       "    .dataframe tbody tr th {\n",
       "        vertical-align: top;\n",
       "    }\n",
       "\n",
       "    .dataframe thead th {\n",
       "        text-align: right;\n",
       "    }\n",
       "</style>\n",
       "<table border=\"1\" class=\"dataframe\">\n",
       "  <thead>\n",
       "    <tr style=\"text-align: right;\">\n",
       "      <th></th>\n",
       "      <th>RecipeId</th>\n",
       "      <th>Name</th>\n",
       "      <th>RecipeCategory</th>\n",
       "      <th>AggregatedRating</th>\n",
       "      <th>Rating</th>\n",
       "      <th>ReviewCount</th>\n",
       "      <th>Images</th>\n",
       "      <th>TotalTime</th>\n",
       "      <th>score</th>\n",
       "    </tr>\n",
       "  </thead>\n",
       "  <tbody>\n",
       "    <tr>\n",
       "      <th>0</th>\n",
       "      <td>56</td>\n",
       "      <td>Buttermilk Pie</td>\n",
       "      <td>Pie</td>\n",
       "      <td>5</td>\n",
       "      <td>168</td>\n",
       "      <td>171.0</td>\n",
       "      <td>c(\"https://img.sndimg.com/food/image/upload/w_...</td>\n",
       "      <td>PT1H20M</td>\n",
       "      <td>4.969795</td>\n",
       "    </tr>\n",
       "    <tr>\n",
       "      <th>1</th>\n",
       "      <td>76</td>\n",
       "      <td>Alfredo Sauce</td>\n",
       "      <td>Sauces</td>\n",
       "      <td>5</td>\n",
       "      <td>200</td>\n",
       "      <td>207.0</td>\n",
       "      <td>c(\"https://img.sndimg.com/food/image/upload/w_...</td>\n",
       "      <td>PT15M</td>\n",
       "      <td>4.973646</td>\n",
       "    </tr>\n",
       "    <tr>\n",
       "      <th>2</th>\n",
       "      <td>220</td>\n",
       "      <td>Chocolate Zucchini Bread</td>\n",
       "      <td>Quick Breads</td>\n",
       "      <td>5</td>\n",
       "      <td>166</td>\n",
       "      <td>162.0</td>\n",
       "      <td>c(\"https://img.sndimg.com/food/image/upload/w_...</td>\n",
       "      <td>PT1H25M</td>\n",
       "      <td>4.969517</td>\n",
       "    </tr>\n",
       "    <tr>\n",
       "      <th>3</th>\n",
       "      <td>246</td>\n",
       "      <td>Lee's Hot Crab Dip</td>\n",
       "      <td>Crab</td>\n",
       "      <td>5</td>\n",
       "      <td>65</td>\n",
       "      <td>65.0</td>\n",
       "      <td>c(\"https://img.sndimg.com/food/image/upload/w_...</td>\n",
       "      <td>PT45M</td>\n",
       "      <td>4.942976</td>\n",
       "    </tr>\n",
       "    <tr>\n",
       "      <th>4</th>\n",
       "      <td>319</td>\n",
       "      <td>Fish Chowder</td>\n",
       "      <td>Chowders</td>\n",
       "      <td>5</td>\n",
       "      <td>64</td>\n",
       "      <td>66.0</td>\n",
       "      <td>c(\"https://img.sndimg.com/food/image/upload/w_...</td>\n",
       "      <td>PT55M</td>\n",
       "      <td>4.942480</td>\n",
       "    </tr>\n",
       "    <tr>\n",
       "      <th>...</th>\n",
       "      <td>...</td>\n",
       "      <td>...</td>\n",
       "      <td>...</td>\n",
       "      <td>...</td>\n",
       "      <td>...</td>\n",
       "      <td>...</td>\n",
       "      <td>...</td>\n",
       "      <td>...</td>\n",
       "      <td>...</td>\n",
       "    </tr>\n",
       "    <tr>\n",
       "      <th>2786</th>\n",
       "      <td>505862</td>\n",
       "      <td>Loaded Baked Potato &amp;amp; Chicken Casserole</td>\n",
       "      <td>Chicken</td>\n",
       "      <td>4</td>\n",
       "      <td>66</td>\n",
       "      <td>68.0</td>\n",
       "      <td>c(\"https://img.sndimg.com/food/image/upload/w_...</td>\n",
       "      <td>PT1H30M</td>\n",
       "      <td>4.379360</td>\n",
       "    </tr>\n",
       "    <tr>\n",
       "      <th>2787</th>\n",
       "      <td>508302</td>\n",
       "      <td>Sugar Cookie in a Mug or Coffee Cup</td>\n",
       "      <td>Dessert</td>\n",
       "      <td>4</td>\n",
       "      <td>59</td>\n",
       "      <td>65.0</td>\n",
       "      <td>c(\"https://img.sndimg.com/food/image/upload/w_...</td>\n",
       "      <td>PT5M</td>\n",
       "      <td>4.403502</td>\n",
       "    </tr>\n",
       "    <tr>\n",
       "      <th>2788</th>\n",
       "      <td>514605</td>\n",
       "      <td>Animal-Style Skillet Potatoes #SP5</td>\n",
       "      <td>Potato</td>\n",
       "      <td>5</td>\n",
       "      <td>53</td>\n",
       "      <td>63.0</td>\n",
       "      <td>c(\"https://img.sndimg.com/food/image/upload/w_...</td>\n",
       "      <td>PT35M</td>\n",
       "      <td>4.936396</td>\n",
       "    </tr>\n",
       "    <tr>\n",
       "      <th>2789</th>\n",
       "      <td>515167</td>\n",
       "      <td>Simply Irresistible Tropical Potato Salad #SP5</td>\n",
       "      <td>Potato</td>\n",
       "      <td>5</td>\n",
       "      <td>74</td>\n",
       "      <td>106.0</td>\n",
       "      <td>\"https://img.sndimg.com/food/image/upload/w_55...</td>\n",
       "      <td>PT13M</td>\n",
       "      <td>4.947081</td>\n",
       "    </tr>\n",
       "    <tr>\n",
       "      <th>2790</th>\n",
       "      <td>533997</td>\n",
       "      <td>Pecan Pie Cheesecake</td>\n",
       "      <td>Cheesecake</td>\n",
       "      <td>4</td>\n",
       "      <td>98</td>\n",
       "      <td>101.0</td>\n",
       "      <td>c(\"https://img.sndimg.com/food/image/upload/w_...</td>\n",
       "      <td>PT2H30M</td>\n",
       "      <td>4.297887</td>\n",
       "    </tr>\n",
       "  </tbody>\n",
       "</table>\n",
       "<p>2791 rows × 9 columns</p>\n",
       "</div>"
      ],
      "text/plain": [
       "      RecipeId                                            Name RecipeCategory  \\\n",
       "0           56                                  Buttermilk Pie            Pie   \n",
       "1           76                                   Alfredo Sauce         Sauces   \n",
       "2          220                        Chocolate Zucchini Bread   Quick Breads   \n",
       "3          246                              Lee's Hot Crab Dip           Crab   \n",
       "4          319                                    Fish Chowder       Chowders   \n",
       "...        ...                                             ...            ...   \n",
       "2786    505862     Loaded Baked Potato &amp; Chicken Casserole        Chicken   \n",
       "2787    508302             Sugar Cookie in a Mug or Coffee Cup        Dessert   \n",
       "2788    514605              Animal-Style Skillet Potatoes #SP5         Potato   \n",
       "2789    515167  Simply Irresistible Tropical Potato Salad #SP5         Potato   \n",
       "2790    533997                            Pecan Pie Cheesecake     Cheesecake   \n",
       "\n",
       "      AggregatedRating  Rating  ReviewCount  \\\n",
       "0                    5     168        171.0   \n",
       "1                    5     200        207.0   \n",
       "2                    5     166        162.0   \n",
       "3                    5      65         65.0   \n",
       "4                    5      64         66.0   \n",
       "...                ...     ...          ...   \n",
       "2786                 4      66         68.0   \n",
       "2787                 4      59         65.0   \n",
       "2788                 5      53         63.0   \n",
       "2789                 5      74        106.0   \n",
       "2790                 4      98        101.0   \n",
       "\n",
       "                                                 Images TotalTime     score  \n",
       "0     c(\"https://img.sndimg.com/food/image/upload/w_...   PT1H20M  4.969795  \n",
       "1     c(\"https://img.sndimg.com/food/image/upload/w_...     PT15M  4.973646  \n",
       "2     c(\"https://img.sndimg.com/food/image/upload/w_...   PT1H25M  4.969517  \n",
       "3     c(\"https://img.sndimg.com/food/image/upload/w_...     PT45M  4.942976  \n",
       "4     c(\"https://img.sndimg.com/food/image/upload/w_...     PT55M  4.942480  \n",
       "...                                                 ...       ...       ...  \n",
       "2786  c(\"https://img.sndimg.com/food/image/upload/w_...   PT1H30M  4.379360  \n",
       "2787  c(\"https://img.sndimg.com/food/image/upload/w_...      PT5M  4.403502  \n",
       "2788  c(\"https://img.sndimg.com/food/image/upload/w_...     PT35M  4.936396  \n",
       "2789  \"https://img.sndimg.com/food/image/upload/w_55...     PT13M  4.947081  \n",
       "2790  c(\"https://img.sndimg.com/food/image/upload/w_...   PT2H30M  4.297887  \n",
       "\n",
       "[2791 rows x 9 columns]"
      ]
     },
     "execution_count": 38,
     "metadata": {},
     "output_type": "execute_result"
    }
   ],
   "source": [
    "qualifiedRecipes"
   ]
  },
  {
   "cell_type": "code",
   "execution_count": null,
   "id": "c3d92601-226a-440e-bd96-7e1d0beda33c",
   "metadata": {},
   "outputs": [],
   "source": [
    "with open('qualifiedRecipesCollaborative.pkl', 'wb') as f:\n",
    "   pickle.dump(qualifiedRecipes, f)"
   ]
  },
  {
   "cell_type": "code",
   "execution_count": null,
   "id": "495199fd",
   "metadata": {},
   "outputs": [],
   "source": [
    "# Convert into same dataframe format \n",
    "df_rating = pd.DataFrame(qualifiedRecipes.groupby(by = ['RecipeId'])['score'].agg('mean')) \n",
    "df_rating.head(10)"
   ]
  },
  {
   "cell_type": "code",
   "execution_count": null,
   "id": "6dd2aa48",
   "metadata": {},
   "outputs": [],
   "source": [
    "result_recipes = similar_recipes.join(df_rating['score'] ).sort_values(by='correlation', ascending=False)\n",
    "result_recipes = result_recipes[result_recipes['score'] > 4].sort_values(by = 'correlation', ascending = False)\n",
    "result_recipes"
   ]
  },
  {
   "cell_type": "code",
   "execution_count": null,
   "id": "f68ef8bd",
   "metadata": {},
   "outputs": [],
   "source": [
    "def getCollaborativeRecommendations(id):\n",
    "    \n",
    "    if id in matrix.columns:\n",
    "        # take the column of data for the recipe\n",
    "        users_rating = matrix[id]\n",
    "        # find correlation with the recipe\n",
    "        similar_recipes = matrix.corrwith(users_rating, method='pearson')\n",
    "        # convert into data frame\n",
    "        similar_recipes = pd.DataFrame(similar_recipes,columns=['correlation'])\n",
    "        print(users_rating)\n",
    "        print(similar_recipes)\n",
    "        # join the correlation with weighted rating score atleast higher than 4\n",
    "        result_recipes = similar_recipes.join(df_rating['score']).sort_values(by='correlation', ascending=False)\n",
    "        result_recipes = result_recipes[result_recipes['score'] > 4].sort_values(by = 'correlation', ascending = False)\n",
    "        \n",
    "        # selecting the top 5\n",
    "        recipeIndices = result_recipes.iloc[1:6].index.tolist()\n",
    "        print(recipeIndices)\n",
    "        # return top 5 recipes\n",
    "        return names[names['RecipeId'].isin(recipeIndices)]\n",
    "    \n",
    "    else:\n",
    "        return -1\n",
    "        "
   ]
  },
  {
   "cell_type": "code",
   "execution_count": null,
   "id": "1f5ad1ee",
   "metadata": {},
   "outputs": [],
   "source": [
    "getCollaborativeRecommendations(56)"
   ]
  },
  {
   "cell_type": "code",
   "execution_count": null,
   "id": "1b65f8a5-9466-4afa-960e-5d1020ab4bce",
   "metadata": {},
   "outputs": [],
   "source": []
  }
 ],
 "metadata": {
  "kernelspec": {
   "display_name": "Python 3 (ipykernel)",
   "language": "python",
   "name": "python3"
  },
  "language_info": {
   "codemirror_mode": {
    "name": "ipython",
    "version": 3
   },
   "file_extension": ".py",
   "mimetype": "text/x-python",
   "name": "python",
   "nbconvert_exporter": "python",
   "pygments_lexer": "ipython3",
   "version": "3.11.7"
  }
 },
 "nbformat": 4,
 "nbformat_minor": 5
}
