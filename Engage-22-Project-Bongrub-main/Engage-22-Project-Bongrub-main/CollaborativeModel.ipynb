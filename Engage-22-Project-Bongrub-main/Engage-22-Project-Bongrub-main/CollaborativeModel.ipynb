{
 "cells": [
  {
   "cell_type": "code",
   "execution_count": null,
   "id": "e8eec1ec",
   "metadata": {},
   "outputs": [],
   "source": [
    "# This Python 3 environment comes with many helpful analytics libraries installed\n",
    "# It is defined by the kaggle/python Docker image: https://github.com/kaggle/docker-python\n",
    "# For example, here's several helpful packages to load\n",
    "\n",
    "import numpy as np # linear algebra\n",
    "import pandas as pd # data processing, CSV file I/O (e.g. pd.read_csv)\n",
    "import pickle"
   ]
  },
  {
   "cell_type": "code",
   "execution_count": null,
   "id": "1e7d7e1c",
   "metadata": {},
   "outputs": [],
   "source": [
    "# Storing the recipes information into a pandas DataFrame titled 'recipes'\n",
    "recipes = pd.read_csv('recipes.csv', engine='python', on_bad_lines='skip')"
   ]
  },
  {
   "cell_type": "code",
   "execution_count": null,
   "id": "55488372",
   "metadata": {},
   "outputs": [],
   "source": [
    "# Storing the reviews information into a pandas DataFrame titled 'reviews'\n",
    "reviews = pd.read_csv('reviews.csv', engine='python', on_bad_lines='skip')"
   ]
  },
  {
   "cell_type": "markdown",
   "id": "6b1bd726",
   "metadata": {},
   "source": [
    "# ⚡ Data pre-processing"
   ]
  },
  {
   "cell_type": "code",
   "execution_count": null,
   "id": "ecd19519",
   "metadata": {},
   "outputs": [],
   "source": [
    "# Truncating the DateSubmitted and DateModified columns\n",
    "reviews=reviews[['ReviewId','RecipeId','AuthorId','AuthorName','Rating','Review']]"
   ]
  },
  {
   "cell_type": "code",
   "execution_count": null,
   "id": "632c2d09",
   "metadata": {},
   "outputs": [],
   "source": [
    "# Function for counting Null values \n",
    "def countNullValues(col):\n",
    "  c = 0\n",
    "  for i in col:\n",
    "    if(i != i):\n",
    "      c+=1\n",
    "  return c"
   ]
  },
  {
   "cell_type": "code",
   "execution_count": null,
   "id": "60a5a0fc",
   "metadata": {},
   "outputs": [],
   "source": [
    "# Counting null values in the reviews dataframe\n",
    "c1 = countNullValues(reviews.ReviewId)\n",
    "c2 = countNullValues(reviews.RecipeId) \n",
    "c3 = countNullValues(reviews.AuthorId)\n",
    "c4 = countNullValues(reviews.AuthorName) \n",
    "c5 = countNullValues(reviews.Rating)\n",
    "c6 = countNullValues(reviews.Review) "
   ]
  },
  {
   "cell_type": "code",
   "execution_count": null,
   "id": "2d09ca49",
   "metadata": {},
   "outputs": [],
   "source": [
    "# Function for replacing Null Values\n",
    "def replaceNullValue(column):\n",
    "  j = 0\n",
    "  for i in column:\n",
    "    if(str(i) == 'nan'):\n",
    "      column[j] = 'NA'\n",
    "    j+=1\n",
    "  return column"
   ]
  },
  {
   "cell_type": "code",
   "execution_count": null,
   "id": "73e899b2",
   "metadata": {},
   "outputs": [],
   "source": [
    "replaceNullValue(reviews.Review)"
   ]
  },
  {
   "cell_type": "code",
   "execution_count": null,
   "id": "a949d996",
   "metadata": {},
   "outputs": [],
   "source": [
    "# Checking the column labels in reviews\n",
    "reviews.columns, reviews.shape"
   ]
  },
  {
   "cell_type": "code",
   "execution_count": null,
   "id": "8c883b3f",
   "metadata": {},
   "outputs": [],
   "source": [
    "# Printing a summary of the data in reviews data\n",
    "# .describe() gives the statistics of the numerical data \n",
    "reviews.describe()"
   ]
  },
  {
   "cell_type": "code",
   "execution_count": null,
   "id": "1362f5b0",
   "metadata": {},
   "outputs": [],
   "source": [
    "# Checking the Rating distribution in the range 0-5 for the Data given \n",
    "import seaborn as sns\n",
    "with sns.axes_style('white'):\n",
    "    g = sns.catplot(x=\"Rating\", data=reviews, aspect=2.0,kind='count')\n",
    "    g.set_ylabels(\"Total number of ratings\")"
   ]
  },
  {
   "cell_type": "code",
   "execution_count": null,
   "id": "50a1e2ce",
   "metadata": {
    "scrolled": true
   },
   "outputs": [],
   "source": [
    "print(\"\\nTotal no of ratings :\", reviews.shape[0])\n",
    "print(\"Total No of authors   :\", len(np.unique(reviews.AuthorId)))\n",
    "print(\"Total No of recipes  :\", len(np.unique(reviews.RecipeId)))"
   ]
  },
  {
   "cell_type": "markdown",
   "id": "86bc0809",
   "metadata": {},
   "source": [
    "# ⚡ Item-based Collaborative based Recommender"
   ]
  },
  {
   "cell_type": "code",
   "execution_count": null,
   "id": "d147f73a",
   "metadata": {},
   "outputs": [],
   "source": [
    "# Setting rating count threshold\n",
    "threshold = 30\n",
    "counts = reviews['RecipeId'].value_counts()\n",
    "valid_recipes = counts[counts >= threshold].index\n",
    "valid_recipes"
   ]
  },
  {
   "cell_type": "code",
   "execution_count": null,
   "id": "437c20b9",
   "metadata": {},
   "outputs": [],
   "source": [
    "filtered_ratings = reviews[reviews['RecipeId'].isin(valid_recipes)]\n",
    "filtered_ratings.shape"
   ]
  },
  {
   "cell_type": "code",
   "execution_count": null,
   "id": "41d8cfb5",
   "metadata": {},
   "outputs": [],
   "source": [
    "# Reset index value\n",
    "filtered_ratings.reset_index(inplace = True, drop = True)\n",
    "filtered_ratings.head()"
   ]
  },
  {
   "cell_type": "code",
   "execution_count": null,
   "id": "040875a3",
   "metadata": {},
   "outputs": [],
   "source": [
    "# Get user rating matrix\n",
    "matrix = filtered_ratings.pivot(index = 'AuthorId', columns ='RecipeId', values = 'Rating').fillna(0)\n",
    "matrix"
   ]
  },
  {
   "cell_type": "code",
   "execution_count": null,
   "id": "3f069094-e12a-4a4f-add9-71fb4adc86fe",
   "metadata": {},
   "outputs": [],
   "source": [
    "with open('filtered_ratings.pkl', 'wb') as f:\n",
    "    pickle.dump(filtered_ratings, f)"
   ]
  },
  {
   "cell_type": "code",
   "execution_count": null,
   "id": "399324ff",
   "metadata": {},
   "outputs": [],
   "source": [
    "# testing input\n",
    "users_rating = matrix[56]\n",
    "users_rating.sort_values(ascending=False).head(20)"
   ]
  },
  {
   "cell_type": "code",
   "execution_count": null,
   "id": "0cd83a82",
   "metadata": {},
   "outputs": [],
   "source": [
    "similar_recipes = matrix.corrwith(users_rating)\n",
    "similar_recipes"
   ]
  },
  {
   "cell_type": "code",
   "execution_count": null,
   "id": "7aa00f80",
   "metadata": {},
   "outputs": [],
   "source": [
    "similar_recipes = pd.DataFrame(similar_recipes,columns=['correlation'])\n",
    "similar_recipes.head(10)"
   ]
  },
  {
   "cell_type": "code",
   "execution_count": null,
   "id": "4fd02cbe",
   "metadata": {},
   "outputs": [],
   "source": [
    "similar_recipes.sort_values(by='correlation', ascending=False).head(20)"
   ]
  },
  {
   "cell_type": "markdown",
   "id": "a289ffbf",
   "metadata": {},
   "source": [
    "# Weighted Rating calculate"
   ]
  },
  {
   "cell_type": "code",
   "execution_count": null,
   "id": "7a123f73",
   "metadata": {},
   "outputs": [],
   "source": [
    "# Calculating the ratings given per recipe\n",
    "RatingCounts = filtered_ratings.groupby('RecipeId')['Rating'].count()\n",
    "RatingCounts.sort_values(ascending=False, inplace=True)"
   ]
  },
  {
   "cell_type": "code",
   "execution_count": null,
   "id": "5cd94540",
   "metadata": {},
   "outputs": [],
   "source": [
    "m = threshold"
   ]
  },
  {
   "cell_type": "code",
   "execution_count": null,
   "id": "6212878a",
   "metadata": {},
   "outputs": [],
   "source": [
    "# Creating and merging smaller recipes dataframe with individual rating counts for a recipe\n",
    "#recipesSubDataFrame = recipes.iloc[:9000]\n",
    "weightedPopularRecipes = recipes.merge(RatingCounts, on='RecipeId')"
   ]
  },
  {
   "cell_type": "code",
   "execution_count": null,
   "id": "de085eca",
   "metadata": {},
   "outputs": [],
   "source": [
    "RatingAverages = weightedPopularRecipes[weightedPopularRecipes['AggregatedRating'].notnull()]['AggregatedRating'].astype('int')\n",
    "C = RatingAverages.mean()\n",
    "C"
   ]
  },
  {
   "cell_type": "code",
   "execution_count": null,
   "id": "37d1f93e",
   "metadata": {},
   "outputs": [],
   "source": [
    "# Columns selected to appear in shortlisted dataframe are RecipeId, Name, RecipeCategory, AggregatedRating, Rating, and ReviewCount\n",
    "qualifiedRecipes = weightedPopularRecipes[(weightedPopularRecipes['Rating'] >= threshold) & (weightedPopularRecipes['Rating'].notnull()) & (weightedPopularRecipes['AggregatedRating'].notnull())][['RecipeId', 'Name', 'RecipeCategory', 'AggregatedRating', 'Rating', 'ReviewCount']]\n",
    "\n",
    "# Setting the datatype of 'Rating' and 'AggregatedRating' to int\n",
    "qualifiedRecipes['Rating'] = qualifiedRecipes['Rating'].astype('int')\n",
    "qualifiedRecipes['AggregatedRating'] = qualifiedRecipes['AggregatedRating'].astype('int') "
   ]
  },
  {
   "cell_type": "code",
   "execution_count": null,
   "id": "04cfe72a",
   "metadata": {},
   "outputs": [],
   "source": [
    "# Function that defines the mathematical formula for the weighted rating method\n",
    "def weightedRating(x):\n",
    "    v = x['Rating']\n",
    "    R = x['AggregatedRating']\n",
    "    return (v/(v+m) * R) + (m/(m+v) * C)"
   ]
  },
  {
   "cell_type": "code",
   "execution_count": null,
   "id": "3c4f579f",
   "metadata": {},
   "outputs": [],
   "source": [
    "# Applying the WR function\n",
    "qualifiedRecipes['score'] = qualifiedRecipes.apply(weightedRating, axis=1)\n",
    "#qualifiedRecipes.loc[qualifiedRecipes[\"RecipeId\"] == 56]\n",
    "qualifiedRecipes.head()\n",
    "names = qualifiedRecipes[[\"RecipeId\",\"Name\"]]\n",
    "names"
   ]
  },
  {
   "cell_type": "code",
   "execution_count": null,
   "id": "c3d92601-226a-440e-bd96-7e1d0beda33c",
   "metadata": {},
   "outputs": [],
   "source": [
    "with open('qualifiedRecipesCollaborative.pkl', 'wb') as f:\n",
    "    pickle.dump(qualifiedRecipes, f)"
   ]
  },
  {
   "cell_type": "code",
   "execution_count": null,
   "id": "495199fd",
   "metadata": {},
   "outputs": [],
   "source": [
    "# Convert into same dataframe format \n",
    "df_rating = pd.DataFrame(qualifiedRecipes.groupby(by = ['RecipeId'])['score'].agg('mean')) \n",
    "df_rating.head(10)"
   ]
  },
  {
   "cell_type": "code",
   "execution_count": null,
   "id": "6dd2aa48",
   "metadata": {},
   "outputs": [],
   "source": [
    "result_recipes = similar_recipes.join(df_rating['score'] ).sort_values(by='correlation', ascending=False)\n",
    "result_recipes = result_recipes[result_recipes['score'] > 4].sort_values(by = 'correlation', ascending = False)\n",
    "result_recipes"
   ]
  },
  {
   "cell_type": "code",
   "execution_count": null,
   "id": "adb6d794",
   "metadata": {},
   "outputs": [],
   "source": [
    "#reset = result_recipes.reset_index()\n",
    "#reset"
   ]
  },
  {
   "cell_type": "code",
   "execution_count": null,
   "id": "f68ef8bd",
   "metadata": {},
   "outputs": [],
   "source": [
    "def getCollaborativeRecommendations(id):\n",
    "    \n",
    "    if id in matrix.columns:\n",
    "        # take the column of data for the recipe\n",
    "        users_rating = matrix[id]\n",
    "        # find correlation with the recipe\n",
    "        similar_recipes = matrix.corrwith(users_rating)\n",
    "        # convert into data frame\n",
    "        similar_recipes = pd.DataFrame(similar_recipes,columns=['correlation'])\n",
    "        # join the correlation with weighted rating score atleast higher than 4\n",
    "        result_recipes = similar_recipes.join(df_rating['score']).sort_values(by='correlation', ascending=False)\n",
    "        result_recipes = result_recipes[result_recipes['score'] > 4].sort_values(by = 'correlation', ascending = False)\n",
    "        \n",
    "        # selecting the top 5\n",
    "        recipeIndices = result_recipes.iloc[1:6].index.tolist()\n",
    "        # return top 5 recipes\n",
    "        return names[names['RecipeId'].isin(recipeIndices)]\n",
    "    \n",
    "    else:\n",
    "        return -1\n",
    "        "
   ]
  },
  {
   "cell_type": "code",
   "execution_count": null,
   "id": "1f5ad1ee",
   "metadata": {},
   "outputs": [],
   "source": [
    "getCollaborativeRecommendations(56)"
   ]
  },
  {
   "cell_type": "code",
   "execution_count": null,
   "id": "6226eaf9",
   "metadata": {},
   "outputs": [],
   "source": [
    "#names.loc[names['RecipeId']==recipeIndices]"
   ]
  },
  {
   "cell_type": "code",
   "execution_count": null,
   "id": "d4071b95",
   "metadata": {},
   "outputs": [],
   "source": [
    "#index = [87421,101568,229104,89030]\n",
    "#test = names[names['RecipeId'].isin(index)]\n",
    "#test"
   ]
  },
  {
   "cell_type": "code",
   "execution_count": null,
   "id": "4abb3b92",
   "metadata": {},
   "outputs": [],
   "source": []
  }
 ],
 "metadata": {
  "kernelspec": {
   "display_name": "Python 3 (ipykernel)",
   "language": "python",
   "name": "python3"
  },
  "language_info": {
   "codemirror_mode": {
    "name": "ipython",
    "version": 3
   },
   "file_extension": ".py",
   "mimetype": "text/x-python",
   "name": "python",
   "nbconvert_exporter": "python",
   "pygments_lexer": "ipython3",
   "version": "3.11.7"
  }
 },
 "nbformat": 4,
 "nbformat_minor": 5
}
